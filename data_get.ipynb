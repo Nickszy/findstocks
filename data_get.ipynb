{
 "nbformat": 4,
 "nbformat_minor": 2,
 "metadata": {
  "language_info": {
   "name": "python",
   "codemirror_mode": {
    "name": "ipython",
    "version": 3
   },
   "version": "3.7.3"
  },
  "orig_nbformat": 2,
  "file_extension": ".py",
  "mimetype": "text/x-python",
  "name": "python",
  "npconvert_exporter": "python",
  "pygments_lexer": "ipython3",
  "version": 3
 },
 "cells": [
  {
   "cell_type": "code",
   "execution_count": null,
   "metadata": {},
   "outputs": [],
   "source": [
    "# 1．数据获取整合"
   ]
  },
  {
   "cell_type": "code",
   "execution_count": 1,
   "metadata": {},
   "outputs": [
    {
     "name": "stdout",
     "output_type": "stream",
     "text": "data/WRESSTK_285F06CA699_(3).xls\n"
    },
    {
     "data": {
      "text/plain": "Index(['股票代码_Stkcd', '最新股票名称_Lstknm', '证监会行业门类代码_Csrciccd1', '日期_Date',\n       '收盘价_ClPr', '复权价1(元)_AdjClpr1', '复权价2(元)_AdjClpr2', '成交量_Trdvol',\n       '成交金额_Trdsum', '总股数周换手率(%)_WkFulTurnR', '流通股周换手率(%)_WkTrdTurnR',\n       '总股数平均日换手率(%)_AvgDFulTurnR', '流通股平均日换手率(%)_AvgDtrdTurnR',\n       '公司国有股_Comstateshr', '公司法人股_Comlpshr', '总股数_Fullshr', '流通股_Trdshr',\n       '已上市流通股_Lsttrdshr', '累积股价调整乘子_Mcfacpr', '周交易天数_Wktrds', '周收益率_Wkret',\n       '周资本收益率_Wkaret', '等权平均市场周收益率_Wreteq', '流通市值加权市场周收益率_Wrettmv',\n       '总市值加权平均市场周收益率_Wretmc', '等权平均市场周资本收益_Wareteq',\n       '流通市值加权平均市场周资本收益_Warettmv', '总市值加权平均市场周资本收益_Waretmc', '周无风险收益率_wkrfret',\n       '市盈率_PE', '市净率_PB', '市现率_PCF', '市销率_PS', '每股收益(摊薄)(元/股)_EPS',\n       '净资产收益率(摊薄)_ROE', '每股公积金(元/股)_AccumFundPS', '每股营业利润(元/股)_OpPrfPS',\n       '每股净资产(元/股)_NAPS', '调整后每股净资产(元/股)_NAPSadj', '每股营业收入(元/股)_IncomePS',\n       '每股经营活动现金流量净额(元/股)_NCFfropePS'],\n      dtype='object')"
     },
     "execution_count": 1,
     "metadata": {},
     "output_type": "execute_result"
    }
   ],
   "source": [
    "import pandas as pd\n",
    "import numpy as np \n",
    "import os\n",
    "le = os.listdir('data')\n",
    "f = 'data/' + le[1]\n",
    "data = pd.read_excel(f)\n",
    "print(f)\n",
    "data.columns"
   ]
  },
  {
   "cell_type": "code",
   "execution_count": 2,
   "metadata": {},
   "outputs": [
    {
     "name": "stdout",
     "output_type": "stream",
     "text": "data/WRESSTK_43BD6A9EB42_(2).xls\ndata/WRESSTK_4E5B8BF6523_(8).xls\ndata/WRESSTK_57BD7733D8A_(6).xls\ndata/WRESSTK_982A23E742B_(5).xls\ndata/WRESSTK_C1624CA4BB1_(4).xls\ndata/WRESSTK_C9BCB17AC74_(7).xls\ndata/WRESSTK_FF16F9B56C9_(1).xls\ndone\n"
    }
   ],
   "source": [
    "for f in le[2:]:\n",
    "    f = 'data/' + f\n",
    "    d1 = pd.read_excel(f)\n",
    "    data = pd.concat([data,d1])\n",
    "    print(f)\n",
    "data.drop_duplicated()\n",
    "data.to_csv(\"data/stock_week_2016_2019.csv\",index=False)\n",
    "print('done')"
   ]
  }
 ]
}