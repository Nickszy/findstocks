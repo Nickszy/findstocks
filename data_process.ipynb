{
 "nbformat": 4,
 "nbformat_minor": 2,
 "metadata": {
  "language_info": {
   "name": "python",
   "codemirror_mode": {
    "name": "ipython",
    "version": 3
   },
   "version": "3.7.3"
  },
  "orig_nbformat": 2,
  "file_extension": ".py",
  "mimetype": "text/x-python",
  "name": "python",
  "npconvert_exporter": "python",
  "pygments_lexer": "ipython3",
  "version": 3
 },
 "cells": [
  {
   "cell_type": "code",
   "execution_count": 0,
   "metadata": {},
   "outputs": [],
   "source": [
    "import pandas as pd\n",
    "stocks = pd.read_csv(\"data\\stock_week_2016_2019.csv\")\n",
    "stocks.head()"
   ]
  },
  {
   "cell_type": "code",
   "execution_count": 2,
   "metadata": {},
   "outputs": [],
   "source": [
    "stocks.index = pd.to_datetime(stocks['日期_Date'])\n",
    "stocks['日期_Date'] = [x.strftime('%Y%m%d') for x in stocks.index]"
   ]
  },
  {
   "cell_type": "code",
   "execution_count": 0,
   "metadata": {},
   "outputs": [],
   "source": [
    "stocks_norm = stocks.groupby('股票代码_Stkcd').copy()\n",
    "# stocks['label'] = stocks['收盘价_ClPr'] / stocks['收盘价_ClPr'].shift(1)\n",
    "stocks_norm['收盘价_ClPr':] = (stocks_norm['收盘价_ClPr':] - stocks_norm['收盘价_ClPr':].mean()) / (stocks_norm['收盘价_ClPr':].std())\n",
    "stocks['label'] = (stocks['收盘价_ClPr'] / stocks['收盘价_ClPr'].shift(1)) > stocks['收盘价_ClPr'].mean()"
   ]
  },
  {
   "cell_type": "code",
   "execution_count": null,
   "metadata": {},
   "outputs": [],
   "source": []
  },
  {
   "cell_type": "code",
   "execution_count": null,
   "metadata": {},
   "outputs": [],
   "source": [
    "storks.to_csv('data/dataset.csv',index = None)"
   ]
  }
 ]
}