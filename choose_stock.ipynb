{
 "nbformat": 4,
 "nbformat_minor": 2,
 "metadata": {
  "language_info": {
   "name": "python",
   "codemirror_mode": {
    "name": "ipython",
    "version": 3
   }
  },
  "orig_nbformat": 2,
  "file_extension": ".py",
  "mimetype": "text/x-python",
  "name": "python",
  "npconvert_exporter": "python",
  "pygments_lexer": "ipython3",
  "version": 3
 },
 "cells": [
  {
   "cell_type": "code",
   "execution_count": null,
   "metadata": {},
   "outputs": [],
   "source": [
    "# 回测账户\n",
    "import time\n",
    "class account:\n",
    "    def __init__(self,t = 1000000):\n",
    "        self.t = t    # 账户余额\n",
    "        self.h = {}   # 持有\n",
    "        self.record = []\n",
    "    def buy( self , stock ,time = time.localtime(),money):        \n",
    "        for id in stock:\n",
    "            share = money/stock.value(time)\n",
    "            self.t -= money\n",
    "            self.h{'id'} += money/stock[time,'last_price']\n",
    "            self.record.append([id,time,money,share])\n",
    "    def sell(self,id,time,money):\n",
    "        self.t += money\n",
    "        self.h['id'] -= money/stock[time,'last_price']\n",
    "    def final(self):\n",
    "        print(\"期末余额:\",self.t)        "
   ]
  },
  {
   "cell_type": "code",
   "execution_count": null,
   "metadata": {},
   "outputs": [],
   "source": []
  }
 ]
}