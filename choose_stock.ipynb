{
 "nbformat": 4,
 "nbformat_minor": 2,
 "metadata": {
  "language_info": {
   "name": "python",
   "codemirror_mode": {
    "name": "ipython",
    "version": 3
   },
   "version": "3.7.3"
  },
  "orig_nbformat": 2,
  "file_extension": ".py",
  "mimetype": "text/x-python",
  "name": "python",
  "npconvert_exporter": "python",
  "pygments_lexer": "ipython3",
  "version": 3
 },
 "cells": [
  {
   "source": [
    "import sklearn.svm as svm\n",
    "from sklearn import metrics\n",
    "import numpy as np\n",
    "import pandas as pd\n",
    "import tushare as ts \n",
    "f = 'data\\dataset.csv'\n",
    "data = pd.read_csv(f)\n",
    "date = np.sort(data.index.unique())"
   ],
   "cell_type": "code",
   "outputs": [],
   "metadata": {},
   "execution_count": 1
  },
  {
   "cell_type": "code",
   "execution_count": null,
   "metadata": {},
   "outputs": [],
   "source": [
    "import pandas as pd \n",
    "import numpy as np \n",
    "from sklearn.svm import SVC \n",
    "from sklearn import metrics \n",
    "from sklearn.model_selection import StratifiedShuffleSplit\n",
    "from sklearn.model_selection import GridSearchCV\n",
    "train_data = stocks.ix['2015-01-01':'2017-12-30'].copy()\n",
    "train_data = train_data.dropna()\n",
    "Y_train = train_data.pop('label')\n",
    "X_train = train_data.drop(['time'] , axis = 1)  # 去除不相关列\n",
    "C_range = []\n",
    "gamma_range = []\n",
    "param_grid = dict(gamma=gamma_range,C=C_range)\n",
    "cv = StratifiedShuffleSplit(n_splits=5,test_size=0.2,random_state=42) # 打乱\n",
    "grid = GridSearchCV(SVC(),param_grid=param_grid,cv=cv)\n",
    "grid.fit(X_train,Y_train)\n",
    "print(\"The best parameters are %s with a score of %0．2f\" %(grid.best_params_,grid.best_score_)) "
   ]
  },
  {
   "cell_type": "code",
   "execution_count": null,
   "metadata": {},
   "outputs": [],
   "source": [
    "clf = svm.SVC()\n",
    "for t in date:\n",
    "    train_data ,train_target = data[:t,:-2].copy , data.ix[:t,-1].copy\n",
    "    clf.fit(train_data,train_target)\n",
    "    train_est = clf.predict(train_data)\n",
    "    test_est = clf.predict(test_data)\n",
    "    print(metrics.accuracy_score(test_target,test_est))\n",
    "    print(metrics.confusion_matrix(test_target,test_est))"
   ]
  },
  {
   "source": [
    "# 回测账户\n",
    "import time\n",
    "pro = ts.pro_api()\n",
    "class account:\n",
    "    def __init__(self,t = 1000000):\n",
    "        self.t = t    # 账户余额\n",
    "        self.h = {}   # 持有\n",
    "        self.record = []\n",
    "    def buy( self , stock ,time = time.localtime(),money):        \n",
    "        for id in stock:\n",
    "            share = money/stock.value(time)\n",
    "            self.t -= money\n",
    "            self.h{'id'} += money/stock[time,'last_price']\n",
    "            self.record.append([id,time,money,share])\n",
    "    def sell(self,id,time,money):\n",
    "        self.t += money\n",
    "        self.h['id'] -= money/stock[time,'last_price']\n",
    "    def show(self):\n",
    "        print(\"期末余额:\",self.t)        "
   ],
   "cell_type": "code",
   "outputs": [
    {
     "output_type": "error",
     "ename": "SyntaxError",
     "evalue": "invalid syntax (<ipython-input-6-f6ea43954781>, line 12)",
     "traceback": [
      "\u001b[1;36m  File \u001b[1;32m\"<ipython-input-6-f6ea43954781>\"\u001b[1;36m, line \u001b[1;32m12\u001b[0m\n\u001b[1;33m    self.h{'id'} += money/stock[time,'last_price']\u001b[0m\n\u001b[1;37m          ^\u001b[0m\n\u001b[1;31mSyntaxError\u001b[0m\u001b[1;31m:\u001b[0m invalid syntax\n"
     ]
    }
   ],
   "metadata": {},
   "execution_count": 6
  }
 ]
}