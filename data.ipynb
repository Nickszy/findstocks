{
 "nbformat": 4,
 "nbformat_minor": 2,
 "metadata": {
  "language_info": {
   "name": "python",
   "codemirror_mode": {
    "name": "ipython",
    "version": 3
   },
   "version": "3.7.3"
  },
  "orig_nbformat": 2,
  "file_extension": ".py",
  "mimetype": "text/x-python",
  "name": "python",
  "npconvert_exporter": "python",
  "pygments_lexer": "ipython3",
  "version": 3
 },
 "cells": [
  {
   "cell_type": "code",
   "execution_count": null,
   "metadata": {},
   "outputs": [],
   "source": [
    "# 1．数据获取整合"
   ]
  },
  {
   "cell_type": "code",
   "execution_count": 34,
   "metadata": {},
   "outputs": [
    {
     "name": "stdout",
     "output_type": "stream",
     "text": "data/WRESSTK_285F06CA699_(3).xls\n"
    },
    {
     "data": {
      "text/plain": "Index(['股票代码_Stkcd', '最新股票名称_Lstknm', '证监会行业门类代码_Csrciccd1', '日期_Date',\n       '收盘价_ClPr', '复权价1(元)_AdjClpr1', '复权价2(元)_AdjClpr2', '成交量_Trdvol',\n       '成交金额_Trdsum', '总股数周换手率(%)_WkFulTurnR', '流通股周换手率(%)_WkTrdTurnR',\n       '总股数平均日换手率(%)_AvgDFulTurnR', '流通股平均日换手率(%)_AvgDtrdTurnR',\n       '公司国有股_Comstateshr', '公司法人股_Comlpshr', '总股数_Fullshr', '流通股_Trdshr',\n       '已上市流通股_Lsttrdshr', '累积股价调整乘子_Mcfacpr', '周交易天数_Wktrds', '周收益率_Wkret',\n       '周资本收益率_Wkaret', '等权平均市场周收益率_Wreteq', '流通市值加权市场周收益率_Wrettmv',\n       '总市值加权平均市场周收益率_Wretmc', '等权平均市场周资本收益_Wareteq',\n       '流通市值加权平均市场周资本收益_Warettmv', '总市值加权平均市场周资本收益_Waretmc', '周无风险收益率_wkrfret',\n       '市盈率_PE', '市净率_PB', '市现率_PCF', '市销率_PS', '每股收益(摊薄)(元/股)_EPS',\n       '净资产收益率(摊薄)_ROE', '每股公积金(元/股)_AccumFundPS', '每股营业利润(元/股)_OpPrfPS',\n       '每股净资产(元/股)_NAPS', '调整后每股净资产(元/股)_NAPSadj', '每股营业收入(元/股)_IncomePS',\n       '每股经营活动现金流量净额(元/股)_NCFfropePS'],\n      dtype='object')"
     },
     "execution_count": 34,
     "metadata": {},
     "output_type": "execute_result"
    }
   ],
   "source": [
    "import pandas as pd\n",
    "import numpy as np \n",
    "import os\n",
    "le = os.listdir('data')\n",
    "f = 'data/' + le[1]\n",
    "data = pd.read_excel(f)\n",
    "print(f)\n",
    "data.columns"
   ]
  },
  {
   "cell_type": "code",
   "execution_count": 35,
   "metadata": {},
   "outputs": [
    {
     "name": "stdout",
     "output_type": "stream",
     "text": "data/WRESSTK_43BD6A9EB42_(2).xls\ndata/WRESSTK_4E5B8BF6523_(8).xls\ndata/WRESSTK_57BD7733D8A_(6).xls\ndata/WRESSTK_982A23E742B_(5).xls\ndata/WRESSTK_C1624CA4BB1_(4).xls\ndata/WRESSTK_C9BCB17AC74_(7).xls\ndata/WRESSTK_FF16F9B56C9_(1).xls\ndone\n"
    }
   ],
   "source": [
    "for f in le[2:]:\n",
    "    f = 'data/' + f\n",
    "    d1 = pd.read_excel(f)\n",
    "    data = pd.concat([data,d1])\n",
    "    print(f)\n",
    "data.to_csv(\"data/stock_week_2016_2019.csv\")\n",
    "print('done')"
   ]
  },
  {
   "cell_type": "code",
   "execution_count": null,
   "metadata": {},
   "outputs": [],
   "source": []
  },
  {
   "cell_type": "code",
   "execution_count": 44,
   "metadata": {},
   "outputs": [],
   "source": [
    "# 数据清洗\n",
    "data1 = data.dropna() # 删除所有含空值的列 "
   ]
  },
  {
   "cell_type": "code",
   "execution_count": 48,
   "metadata": {},
   "outputs": [],
   "source": [
    "date = np.sort(list(set(data1['日期_Date'])))"
   ]
  },
  {
   "cell_type": "code",
   "execution_count": 60,
   "metadata": {},
   "outputs": [],
   "source": [
    "print(data1[data1[['日期_Date']]==\"2015-01-05\"])"
   ]
  },
  {
   "cell_type": "code",
   "execution_count": 0,
   "metadata": {},
   "outputs": [],
   "source": [
    "data1[['日期_Date']]"
   ]
  },
  {
   "cell_type": "code",
   "execution_count": 47,
   "metadata": {},
   "outputs": [
    {
     "data": {
      "text/html": "<div>\n<style scoped>\n    .dataframe tbody tr th:only-of-type {\n        vertical-align: middle;\n    }\n\n    .dataframe tbody tr th {\n        vertical-align: top;\n    }\n\n    .dataframe thead th {\n        text-align: right;\n    }\n</style>\n<table border=\"1\" class=\"dataframe\">\n  <thead>\n    <tr style=\"text-align: right;\">\n      <th></th>\n      <th>前收盘价_PrevClPr</th>\n      <th>开盘价_Oppr</th>\n      <th>最高价_Hipr</th>\n      <th>最低价_Lopr</th>\n      <th>收盘价_Clpr</th>\n    </tr>\n  </thead>\n  <tbody>\n    <tr>\n      <th>count</th>\n      <td>56632.000000</td>\n      <td>56632.000000</td>\n      <td>56632.000000</td>\n      <td>56632.000000</td>\n      <td>56632.000000</td>\n    </tr>\n    <tr>\n      <th>mean</th>\n      <td>13.146216</td>\n      <td>13.127630</td>\n      <td>13.374337</td>\n      <td>12.905403</td>\n      <td>13.136172</td>\n    </tr>\n    <tr>\n      <th>std</th>\n      <td>10.869385</td>\n      <td>10.851421</td>\n      <td>11.070312</td>\n      <td>10.665677</td>\n      <td>10.859757</td>\n    </tr>\n    <tr>\n      <th>min</th>\n      <td>0.910000</td>\n      <td>0.900000</td>\n      <td>0.950000</td>\n      <td>0.860000</td>\n      <td>0.910000</td>\n    </tr>\n    <tr>\n      <th>25%</th>\n      <td>6.760000</td>\n      <td>6.750000</td>\n      <td>6.860000</td>\n      <td>6.630000</td>\n      <td>6.750000</td>\n    </tr>\n    <tr>\n      <th>50%</th>\n      <td>9.800000</td>\n      <td>9.790000</td>\n      <td>9.960000</td>\n      <td>9.620000</td>\n      <td>9.800000</td>\n    </tr>\n    <tr>\n      <th>75%</th>\n      <td>15.040000</td>\n      <td>15.000000</td>\n      <td>15.320000</td>\n      <td>14.750000</td>\n      <td>15.022500</td>\n    </tr>\n    <tr>\n      <th>max</th>\n      <td>88.320000</td>\n      <td>88.270000</td>\n      <td>92.990000</td>\n      <td>83.270000</td>\n      <td>88.320000</td>\n    </tr>\n  </tbody>\n</table>\n</div>",
      "text/plain": "       前收盘价_PrevClPr      开盘价_Oppr      最高价_Hipr      最低价_Lopr      收盘价_Clpr\ncount   56632.000000  56632.000000  56632.000000  56632.000000  56632.000000\nmean       13.146216     13.127630     13.374337     12.905403     13.136172\nstd        10.869385     10.851421     11.070312     10.665677     10.859757\nmin         0.910000      0.900000      0.950000      0.860000      0.910000\n25%         6.760000      6.750000      6.860000      6.630000      6.750000\n50%         9.800000      9.790000      9.960000      9.620000      9.800000\n75%        15.040000     15.000000     15.320000     14.750000     15.022500\nmax        88.320000     88.270000     92.990000     83.270000     88.320000"
     },
     "execution_count": 47,
     "metadata": {},
     "output_type": "execute_result"
    }
   ],
   "source": [
    "data.describe()[['前收盘价_PrevClPr','开盘价_Oppr','最高价_Hipr','最低价_Lopr','收盘价_Clpr']]"
   ]
  },
  {
   "cell_type": "code",
   "execution_count": null,
   "metadata": {},
   "outputs": [],
   "source": [
    "rankdata=data__raw．copy()\n",
    "date=np.sort(1ist(set(data raw[’TIME’]))) \n",
    "for ii in range(1en(date)):\n",
    "    for i in data——raw．columns:\n",
    "        if i=='PCT—CHG’or i==q'IME’ or i一’CODE’:\n",
    "            continue\n",
    "else:\n",
    "        rankdata[i][O+ii4300：300+ii8300]2(data_raw[i][0+ii+DOO．DOO+n+300]．rank0)／300 data=rankdata．copy0 pct_chgrank2口 for ii in range(1en(date))： pct__chg_rank[0+ii卓300：300+ii4300]=data[。PCT_CHG’][0“i半300：300+ii+300]．rankO \n",
    "        for ii in range(1en(pct_chg_rank))： \n",
    "        ifpct_chg_rank[ii]<=90：          \n",
    "            pct_chg_rank[ii]2—1 elifpctchg_rank[ii]>=210：\n",
    "    pct_chg_rank[ii]21\n",
    "else：\n",
    "    pct_chgrank[ii]20 data[’label’]_pct_chg_rank \n",
    "    data．to_csv(\"stockdata2.csv',encoding = \"utf-8\" , index=False) "
   ]
  },
  {
   "cell_type": "code",
   "execution_count": null,
   "metadata": {},
   "outputs": [],
   "source": [
    "import time\n",
    "class stock:\n",
    "    def __init__(self):\n",
    "        self = \n",
    "        data = pd.read_excel(\"data\\DRESSTK_2016__CFE391EE66C_(1).xls\")\n",
    "    def value(self,time= time.time(), nature = 'end'):\n",
    "        stock_value = data[time][id,nature]\n",
    "        return stock_value\n"
   ]
  },
  {
   "cell_type": "code",
   "execution_count": null,
   "metadata": {},
   "outputs": [],
   "source": []
  },
  {
   "cell_type": "code",
   "execution_count": null,
   "metadata": {},
   "outputs": [],
   "source": []
  },
  {
   "cell_type": "code",
   "execution_count": null,
   "metadata": {},
   "outputs": [],
   "source": []
  }
 ]
}